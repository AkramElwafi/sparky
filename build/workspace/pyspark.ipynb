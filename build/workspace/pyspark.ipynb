{
 "cells": [
  {
   "cell_type": "markdown",
   "metadata": {},
   "source": [
    "# **PySpark**: The Apache Spark Python API"
   ]
  },
  {
   "cell_type": "markdown",
   "metadata": {},
   "source": [
    "## 1. Introduction\n",
    "\n",
    "This notebook shows how to connect Jupyter notebooks to a Spark cluster to process data using Spark Python API."
   ]
  },
  {
   "cell_type": "markdown",
   "metadata": {},
   "source": [
    "## 2. The Spark Cluster"
   ]
  },
  {
   "cell_type": "markdown",
   "metadata": {},
   "source": [
    "### 2.1. Connection\n",
    "\n",
    "To connect to the Spark cluster, create a SparkSession object with the following params:\n",
    "\n",
    "+ **appName:** application name displayed at the [Spark Master Web UI](http://localhost:8080/);\n",
    "+ **master:** Spark Master URL, same used by Spark Workers;\n",
    "+ **spark.executor.memory:** must be less than or equals to docker compose SPARK_WORKER_MEMORY config."
   ]
  },
  {
   "cell_type": "code",
   "execution_count": 2,
   "metadata": {},
   "outputs": [
    {
     "name": "stderr",
     "output_type": "stream",
     "text": [
      "24/07/12 13:28:55 WARN NativeCodeLoader: Unable to load native-hadoop library for your platform... using builtin-java classes where applicable\n",
      "Using Spark's default log4j profile: org/apache/spark/log4j-defaults.properties\n",
      "Setting default log level to \"WARN\".\n",
      "To adjust logging level use sc.setLogLevel(newLevel). For SparkR, use setLogLevel(newLevel).\n"
     ]
    }
   ],
   "source": [
    "from pyspark.sql import SparkSession\n",
    "\n",
    "spark = SparkSession.\\\n",
    "        builder.\\\n",
    "        appName(\"pyspark-notebook\").\\\n",
    "        master(\"spark://spark-master:7077\").\\\n",
    "        config(\"spark.executor.memory\", \"512m\").\\\n",
    "        getOrCreate()"
   ]
  },
  {
   "cell_type": "markdown",
   "metadata": {},
   "source": [
    "More confs for SparkSession object in standalone mode can be added using the **config** method. Checkout the API docs [here](https://spark.apache.org/docs/latest/api/python/pyspark.sql.html#pyspark.sql.SparkSession)."
   ]
  },
  {
   "cell_type": "markdown",
   "metadata": {},
   "source": [
    "## 3. The Data"
   ]
  },
  {
   "cell_type": "markdown",
   "metadata": {},
   "source": [
    "### 3.1. Introduction\n",
    "\n",
    "We will be using Spark Python API to read, process and write data. Checkout the API docs [here](https://spark.apache.org/docs/latest/api/python/index.html)."
   ]
  },
  {
   "cell_type": "markdown",
   "metadata": {},
   "source": [
    "### 3.2. Read\n",
    "\n",
    "Let's read the data concerning Credit Score Classification ([source](https://www.kaggle.com/datasets/parisrohan/credit-score-classification)) from the cluster's simulated **Spark standalone cluster** into a Spark dataframe.\n",
    "This dataset shows multiple information related to the credits of people registered in banks"
   ]
  },
  {
   "cell_type": "code",
   "execution_count": 3,
   "metadata": {},
   "outputs": [
    {
     "name": "stderr",
     "output_type": "stream",
     "text": [
      "                                                                                \r"
     ]
    }
   ],
   "source": [
    "data = spark.read.csv(path=\"data/cleaned_data.csv\", sep=\",\", header=True)"
   ]
  },
  {
   "cell_type": "markdown",
   "metadata": {},
   "source": [
    "Let's then display some dataframe metadata, such as the number of rows and cols and its schema (cols name and type)."
   ]
  },
  {
   "cell_type": "code",
   "execution_count": 4,
   "metadata": {},
   "outputs": [
    {
     "name": "stderr",
     "output_type": "stream",
     "text": [
      "24/07/12 13:29:16 WARN package: Truncated the string representation of a plan since it was too large. This behavior can be adjusted by setting 'spark.sql.debug.maxToStringFields'.\n",
      "                                                                                \r"
     ]
    },
    {
     "data": {
      "text/plain": [
       "37827"
      ]
     },
     "execution_count": 4,
     "metadata": {},
     "output_type": "execute_result"
    }
   ],
   "source": [
    "data.count()"
   ]
  },
  {
   "cell_type": "code",
   "execution_count": null,
   "metadata": {},
   "outputs": [],
   "source": [
    "len(data.columns)"
   ]
  },
  {
   "cell_type": "markdown",
   "metadata": {},
   "source": [
    "Let s see the types of each column in our data"
   ]
  },
  {
   "cell_type": "code",
   "execution_count": 5,
   "metadata": {},
   "outputs": [
    {
     "data": {
      "text/plain": [
       "[('ID', 'string'),\n",
       " ('Customer_ID', 'string'),\n",
       " ('Month', 'string'),\n",
       " ('Name', 'string'),\n",
       " ('Age', 'string'),\n",
       " ('SSN', 'string'),\n",
       " ('Occupation', 'string'),\n",
       " ('Annual_Income', 'string'),\n",
       " ('Monthly_Inhand_Salary', 'string'),\n",
       " ('Num_Bank_Accounts', 'string'),\n",
       " ('Interest_Rate', 'string'),\n",
       " ('Num_of_Loan', 'string'),\n",
       " ('Type_of_Loan', 'string'),\n",
       " ('Delay_from_due_date', 'string'),\n",
       " ('Num_of_Delayed_Payment', 'string'),\n",
       " ('Changed_Credit_Limit', 'string'),\n",
       " ('Num_Credit_Inquiries', 'string'),\n",
       " ('Credit_Mix', 'string'),\n",
       " ('Outstanding_Debt', 'string'),\n",
       " ('Credit_Utilization_Ratio', 'string'),\n",
       " ('Credit_History_Age', 'string'),\n",
       " ('Payment_of_Min_Amount', 'string'),\n",
       " ('Total_EMI_per_month', 'string'),\n",
       " ('Amount_invested_monthly', 'string'),\n",
       " ('Payment_Behaviour', 'string'),\n",
       " ('Monthly_Balance', 'string')]"
      ]
     },
     "execution_count": 5,
     "metadata": {},
     "output_type": "execute_result"
    }
   ],
   "source": [
    "data.dtypes"
   ]
  },
  {
   "cell_type": "markdown",
   "metadata": {},
   "source": [
    "We can clearly see that all columns are \"string\" type. It is necessary to change some of the columns into \"float\" before proceding to modeling"
   ]
  },
  {
   "cell_type": "markdown",
   "metadata": {},
   "source": [
    "### 3.3. Process"
   ]
  },
  {
   "cell_type": "markdown",
   "metadata": {},
   "source": [
    "The columns below are supposed to be numbers.\n",
    "\n",
    "We ll create a function that converts the selected columns into \"float\""
   ]
  },
  {
   "cell_type": "code",
   "execution_count": 6,
   "metadata": {},
   "outputs": [],
   "source": [
    "columns_to_convert = [\n",
    "    \"Age\", \"Annual_Income\", \"Monthly_Inhand_Salary\", \"Num_Bank_Accounts\",\n",
    "    \"Interest_Rate\", \"Num_of_Loan\", \"Delay_from_due_date\",\n",
    "    \"Num_of_Delayed_Payment\", \"Changed_Credit_Limit\", \"Num_Credit_Inquiries\",\n",
    "    \"Outstanding_Debt\", \"Credit_Utilization_Ratio\", \"Total_EMI_per_month\",\n",
    "    \"Amount_invested_monthly\", \"Monthly_Balance\"\n",
    "]"
   ]
  },
  {
   "cell_type": "code",
   "execution_count": 7,
   "metadata": {},
   "outputs": [
    {
     "name": "stdout",
     "output_type": "stream",
     "text": [
      "root\n",
      " |-- ID: string (nullable = true)\n",
      " |-- Customer_ID: string (nullable = true)\n",
      " |-- Month: string (nullable = true)\n",
      " |-- Name: string (nullable = true)\n",
      " |-- Age: float (nullable = true)\n",
      " |-- SSN: string (nullable = true)\n",
      " |-- Occupation: string (nullable = true)\n",
      " |-- Annual_Income: float (nullable = true)\n",
      " |-- Monthly_Inhand_Salary: float (nullable = true)\n",
      " |-- Num_Bank_Accounts: float (nullable = true)\n",
      " |-- Interest_Rate: float (nullable = true)\n",
      " |-- Num_of_Loan: float (nullable = true)\n",
      " |-- Type_of_Loan: string (nullable = true)\n",
      " |-- Delay_from_due_date: float (nullable = true)\n",
      " |-- Num_of_Delayed_Payment: float (nullable = true)\n",
      " |-- Changed_Credit_Limit: float (nullable = true)\n",
      " |-- Num_Credit_Inquiries: float (nullable = true)\n",
      " |-- Credit_Mix: string (nullable = true)\n",
      " |-- Outstanding_Debt: float (nullable = true)\n",
      " |-- Credit_Utilization_Ratio: float (nullable = true)\n",
      " |-- Credit_History_Age: string (nullable = true)\n",
      " |-- Payment_of_Min_Amount: string (nullable = true)\n",
      " |-- Total_EMI_per_month: float (nullable = true)\n",
      " |-- Amount_invested_monthly: float (nullable = true)\n",
      " |-- Payment_Behaviour: string (nullable = true)\n",
      " |-- Monthly_Balance: float (nullable = true)\n",
      "\n"
     ]
    }
   ],
   "source": [
    "from pyspark.sql.functions import col\n",
    "\n",
    "def convert_to_float(df, column):\n",
    "    return df.withColumn(column, col(column).cast(\"float\"))\n",
    "\n",
    "# Apply the conversion to each column\n",
    "for column in columns_to_convert:\n",
    "    data = convert_to_float(data, column)\n",
    "\n",
    "# Show the schema to verify the changes\n",
    "data.printSchema()"
   ]
  },
  {
   "cell_type": "markdown",
   "metadata": {},
   "source": [
    "Now that our columns have the right types, we ll check for missing values on each of them"
   ]
  },
  {
   "cell_type": "markdown",
   "metadata": {},
   "source": [
    "Before that, we need to import \"functions\" from pyspark.sql"
   ]
  },
  {
   "cell_type": "code",
   "execution_count": 8,
   "metadata": {},
   "outputs": [
    {
     "name": "stderr",
     "output_type": "stream",
     "text": [
      "                                                                                \r"
     ]
    },
    {
     "name": "stdout",
     "output_type": "stream",
     "text": [
      "+---+-------------+---------------------+-----------------+-------------+-----------+-------------------+----------------------+--------------------+--------------------+----------------+------------------------+-------------------+-----------------------+---------------+\n",
      "|Age|Annual_Income|Monthly_Inhand_Salary|Num_Bank_Accounts|Interest_Rate|Num_of_Loan|Delay_from_due_date|Num_of_Delayed_Payment|Changed_Credit_Limit|Num_Credit_Inquiries|Outstanding_Debt|Credit_Utilization_Ratio|Total_EMI_per_month|Amount_invested_monthly|Monthly_Balance|\n",
      "+---+-------------+---------------------+-----------------+-------------+-----------+-------------------+----------------------+--------------------+--------------------+----------------+------------------------+-------------------+-----------------------+---------------+\n",
      "|  0|            0|                 5621|                0|            0|          0|                  0|                  2739|                   0|                 777|               0|                       0|                  0|                   1789|            409|\n",
      "+---+-------------+---------------------+-----------------+-------------+-----------+-------------------+----------------------+--------------------+--------------------+----------------+------------------------+-------------------+-----------------------+---------------+\n",
      "\n"
     ]
    },
    {
     "name": "stderr",
     "output_type": "stream",
     "text": [
      "                                                                                \r"
     ]
    },
    {
     "name": "stdout",
     "output_type": "stream",
     "text": [
      "+---+-------------+---------------------+-----------------+-------------+-----------+-------------------+----------------------+--------------------+--------------------+----------------+------------------------+-------------------+-----------------------+---------------+\n",
      "|Age|Annual_Income|Monthly_Inhand_Salary|Num_Bank_Accounts|Interest_Rate|Num_of_Loan|Delay_from_due_date|Num_of_Delayed_Payment|Changed_Credit_Limit|Num_Credit_Inquiries|Outstanding_Debt|Credit_Utilization_Ratio|Total_EMI_per_month|Amount_invested_monthly|Monthly_Balance|\n",
      "+---+-------------+---------------------+-----------------+-------------+-----------+-------------------+----------------------+--------------------+--------------------+----------------+------------------------+-------------------+-----------------------+---------------+\n",
      "|  0|            0|                    0|                0|            0|          0|                  0|                     0|                   0|                   0|               0|                       0|                  0|                      0|              0|\n",
      "+---+-------------+---------------------+-----------------+-------------+-----------+-------------------+----------------------+--------------------+--------------------+----------------+------------------------+-------------------+-----------------------+---------------+\n",
      "\n"
     ]
    },
    {
     "name": "stderr",
     "output_type": "stream",
     "text": [
      "                                                                                \r"
     ]
    }
   ],
   "source": [
    "from pyspark.sql import functions as F\n",
    "\n",
    "missing_values = data.select([F.count(F.when(F.col(c).isNull(), c)).alias(c) for c in columns_to_convert])\n",
    "missing_values.show()\n",
    "\n",
    "# Step 2: Drop rows with any null values\n",
    "clean_data = data.na.drop()\n",
    "\n",
    "# Step 3: Fill the remaining missing values with the mean of their respective columns\n",
    "for column in columns_to_convert:\n",
    "    mean_value = clean_data.select(F.mean(F.col(column))).collect()[0][0]\n",
    "    clean_data = clean_data.na.fill({column: mean_value})\n",
    "\n",
    "# Step 4: Verify that all missing values are handled\n",
    "clean_data_values = clean_data.select([F.count(F.when(F.col(c).isNull(), c)).alias(c) for c in columns_to_convert])\n",
    "clean_data_values.show()\n"
   ]
  },
  {
   "cell_type": "markdown",
   "metadata": {},
   "source": [
    "After removing the null values, let see how many rows we have left"
   ]
  },
  {
   "cell_type": "code",
   "execution_count": 9,
   "metadata": {},
   "outputs": [
    {
     "name": "stderr",
     "output_type": "stream",
     "text": [
      "[Stage 37:=============================>                            (1 + 1) / 2]\r"
     ]
    },
    {
     "name": "stdout",
     "output_type": "stream",
     "text": [
      "(20033, 26)\n"
     ]
    },
    {
     "name": "stderr",
     "output_type": "stream",
     "text": [
      "                                                                                \r"
     ]
    }
   ],
   "source": [
    " print((clean_data.count(), len(clean_data.columns)))\n"
   ]
  },
  {
   "cell_type": "markdown",
   "metadata": {},
   "source": [
    "Let s check the usual statistiques of our columns of the type \"float\""
   ]
  },
  {
   "cell_type": "code",
   "execution_count": 10,
   "metadata": {},
   "outputs": [
    {
     "name": "stderr",
     "output_type": "stream",
     "text": [
      "                                                                                \r"
     ]
    },
    {
     "name": "stdout",
     "output_type": "stream",
     "text": [
      "+-------+-------+-----------+---------+------+------------------+-----------+----------+------------------+---------------------+------------------+-----------------+------------------+--------------------+-------------------+----------------------+--------------------+--------------------+----------+------------------+------------------------+--------------------+---------------------+-------------------+-----------------------+--------------------+------------------+\n",
      "|summary|     ID|Customer_ID|    Month|  Name|               Age|        SSN|Occupation|     Annual_Income|Monthly_Inhand_Salary| Num_Bank_Accounts|    Interest_Rate|       Num_of_Loan|        Type_of_Loan|Delay_from_due_date|Num_of_Delayed_Payment|Changed_Credit_Limit|Num_Credit_Inquiries|Credit_Mix|  Outstanding_Debt|Credit_Utilization_Ratio|  Credit_History_Age|Payment_of_Min_Amount|Total_EMI_per_month|Amount_invested_monthly|   Payment_Behaviour|   Monthly_Balance|\n",
      "+-------+-------+-----------+---------+------+------------------+-----------+----------+------------------+---------------------+------------------+-----------------+------------------+--------------------+-------------------+----------------------+--------------------+--------------------+----------+------------------+------------------------+--------------------+---------------------+-------------------+-----------------------+--------------------+------------------+\n",
      "|  count|  20033|      20033|    20033| 20033|             20033|      20033|     20033|             20033|                20033|             20033|            20033|             20033|               20033|              20033|                 20033|               20033|               20033|     20033|             20033|                   20033|               20033|                20033|              20033|                  20033|               20033|             20033|\n",
      "|   mean|   null|       null|     null|  null|124.25957170668397|       null|      null|154205.83995274984|    4017.475832721164|16.571107672340638|71.79653571606849| 11.53656466829731|                null|  22.07652373583587|    30.179953077422255|  10.752632156082875|   32.90540607996805|      null|1510.4880005672292|       32.19677834231599|                null|                 null| 1543.3409882038334|     181.99523892276733|                null|383.15489837225914|\n",
      "| stddev|   null|       null|     null|  null| 699.5828570891819|       null|      null|1254283.0578127482|   3088.9566396433556|113.21021713006216|466.5551762246782|63.221491931555576|                null| 15.217508611671411|     212.5855954593886|   6.804688672952165|  209.79630717060328|      null| 1183.491800317074|       5.046851274797146|                null|                 null|  8762.668761928258|     176.57326327882393|                null| 194.9261853987552|\n",
      "|    min|0x10000| CUS_0x1000| December| Mattr|              14.0|  #F%$D@*&8|Accountant|           7005.93|            303.64542|               0.0|              1.0|               1.0|           Auto Loan|                0.0|                   0.0|                0.01|                 0.0|       Bad|              0.34|               21.367496|0 Years and 10 Mo...|                   NM|          4.4628377|                    0.0|              !@9#%8|       0.103402235|\n",
      "|    max| 0xfff5|  CUS_0xffd|September|    yv|            8688.0|999-95-7259|   _______|       2.4017308E7|            15204.634|            1783.0|           5759.0|            1496.0|Student Loan, and...|               67.0|                4335.0|               36.65|              2593.0|         _|           4998.07|               47.288986|9 Years and 9 Months|                  Yes|            82071.0|              1539.6357|Low_spent_Small_v...|         1449.4237|\n",
      "+-------+-------+-----------+---------+------+------------------+-----------+----------+------------------+---------------------+------------------+-----------------+------------------+--------------------+-------------------+----------------------+--------------------+--------------------+----------+------------------+------------------------+--------------------+---------------------+-------------------+-----------------------+--------------------+------------------+\n",
      "\n"
     ]
    }
   ],
   "source": [
    "summary_stats = clean_data.describe()\n",
    "summary_stats.show()"
   ]
  },
  {
   "cell_type": "markdown",
   "metadata": {},
   "source": [
    "<h1>Interpretation</h1>"
   ]
  },
  {
   "cell_type": "markdown",
   "metadata": {},
   "source": [
    "By observing the table above, we can find many unusual values.\n",
    "\n",
    "For example:\n",
    "the mean of the column \"Age\" is 124.25.\n",
    "\n",
    "the mean of the columns \"Num_Bank_Accounts\" is 16.57.\n",
    "\n",
    "there are many values that seems much bigger than they should be, and that is due to mistyping and incorrect data that could ve been wrongly registered for various reasons.\n",
    "\n",
    "<h5>Our job is to fix this data before creating a model</h5>\n",
    "Let s create a boxplot for each columns to check the distrubution of values in each column\n"
   ]
  },
  {
   "cell_type": "code",
   "execution_count": 11,
   "metadata": {},
   "outputs": [],
   "source": [
    "def compute_boxplot_values(df, column):\n",
    "    quantiles = df.approxQuantile(column, [0.25, 0.5, 0.75], 0.01)\n",
    "    q1, median, q3 = quantiles\n",
    "    iqr = q3 - q1\n",
    "    lower_whisker = df.filter(F.col(column) >= q1 - 1.5 * iqr).select(F.min(column)).first()[0]\n",
    "    upper_whisker = df.filter(F.col(column) <= q3 + 1.5 * iqr).select(F.max(column)).first()[0]\n",
    "    return {\n",
    "        \"q1\": q1,\n",
    "        \"median\": median,\n",
    "        \"q3\": q3,\n",
    "        \"iqr\": iqr,\n",
    "        \"lower_whisker\": lower_whisker,\n",
    "        \"upper_whisker\": upper_whisker\n",
    "    }"
   ]
  },
  {
   "cell_type": "markdown",
   "metadata": {},
   "source": [
    "Let s display it for all the columns of the type \"float\""
   ]
  },
  {
   "cell_type": "code",
   "execution_count": 12,
   "metadata": {},
   "outputs": [
    {
     "name": "stderr",
     "output_type": "stream",
     "text": [
      "                                                                                \r"
     ]
    },
    {
     "name": "stdout",
     "output_type": "stream",
     "text": [
      "Boxplot stats for Age: {'q1': 25.0, 'median': 33.0, 'q3': 42.0, 'iqr': 17.0, 'lower_whisker': 14.0, 'upper_whisker': 56.0}\n",
      "Boxplot stats for Annual_Income: {'q1': 18743.80078125, 'median': 35938.44921875, 'q3': 68721.078125, 'iqr': 49977.27734375, 'lower_whisker': 7005.93017578125, 'upper_whisker': 143570.796875}\n",
      "Boxplot stats for Monthly_Inhand_Salary: {'q1': 1565.7220458984375, 'median': 2973.625732421875, 'q3': 5575.943359375, 'iqr': 4010.2213134765625, 'lower_whisker': 303.6454162597656, 'upper_whisker': 11587.8095703125}\n",
      "Boxplot stats for Num_Bank_Accounts: {'q1': 4.0, 'median': 6.0, 'q3': 8.0, 'iqr': 4.0, 'lower_whisker': 0.0, 'upper_whisker': 11.0}\n",
      "Boxplot stats for Interest_Rate: {'q1': 8.0, 'median': 15.0, 'q3': 21.0, 'iqr': 13.0, 'lower_whisker': 1.0, 'upper_whisker': 34.0}\n",
      "Boxplot stats for Num_of_Loan: {'q1': 2.0, 'median': 4.0, 'q3': 6.0, 'iqr': 4.0, 'lower_whisker': 1.0, 'upper_whisker': 9.0}\n",
      "Boxplot stats for Delay_from_due_date: {'q1': 10.0, 'median': 19.0, 'q3': 29.0, 'iqr': 19.0, 'lower_whisker': 0.0, 'upper_whisker': 57.0}\n",
      "Boxplot stats for Num_of_Delayed_Payment: {'q1': 9.0, 'median': 14.0, 'q3': 18.0, 'iqr': 9.0, 'lower_whisker': 0.0, 'upper_whisker': 28.0}\n",
      "Boxplot stats for Changed_Credit_Limit: {'q1': 5.53000020980835, 'median': 9.520000457763672, 'q3': 15.100000381469727, 'iqr': 9.570000171661377, 'lower_whisker': 0.009999999776482582, 'upper_whisker': 29.450000762939453}\n",
      "Boxplot stats for Num_Credit_Inquiries: {'q1': 5.0, 'median': 7.0, 'q3': 11.0, 'iqr': 6.0, 'lower_whisker': 0.0, 'upper_whisker': 17.0}\n",
      "Boxplot stats for Outstanding_Debt: {'q1': 599.5399780273438, 'median': 1240.6400146484375, 'q3': 2093.75, 'iqr': 1494.2100219726562, 'lower_whisker': 0.3400000035762787, 'upper_whisker': 4332.93994140625}\n",
      "Boxplot stats for Credit_Utilization_Ratio: {'q1': 27.917186737060547, 'median': 32.170021057128906, 'q3': 36.216590881347656, 'iqr': 8.29940414428711, 'lower_whisker': 21.367496490478516, 'upper_whisker': 47.28898620605469}\n",
      "Boxplot stats for Total_EMI_per_month: {'q1': 42.08137512207031, 'median': 83.82910919189453, 'q3': 180.09918212890625, 'iqr': 138.01780700683594, 'lower_whisker': 4.4628376960754395, 'upper_whisker': 386.7777404785156}\n",
      "Boxplot stats for Amount_invested_monthly: {'q1': 69.78279113769531, 'median': 122.84355926513672, 'q3': 219.39584350585938, 'iqr': 149.61305236816406, 'lower_whisker': 0.0, 'upper_whisker': 443.7012939453125}\n",
      "Boxplot stats for Monthly_Balance: {'q1': 264.11932373046875, 'median': 325.1966857910156, 'q3': 443.2441711425781, 'iqr': 179.12484741210938, 'lower_whisker': 0.10340223461389542, 'upper_whisker': 711.295166015625}\n"
     ]
    },
    {
     "name": "stderr",
     "output_type": "stream",
     "text": [
      "                                                                                \r"
     ]
    }
   ],
   "source": [
    "# Compute and display box plot values for each column\n",
    "boxplot_stats = {col: compute_boxplot_values(clean_data, col) for col in columns_to_convert}\n",
    "for col, stats in boxplot_stats.items():\n",
    "    print(f\"Boxplot stats for {col}: {stats}\")\n"
   ]
  },
  {
   "cell_type": "markdown",
   "metadata": {},
   "source": [
    "As we have guessed, there seems to be many outliers in our data.\n",
    "\n",
    "<h4>We can either delete the rows of outliers or replace those values with the actual mean of the non-outliers, however, since the mean depends on many other factors (like the occupation), it will tamper with the informations of our data. So in this case, we will choose to delete the rows</h4>\n"
   ]
  },
  {
   "cell_type": "code",
   "execution_count": 13,
   "metadata": {},
   "outputs": [
    {
     "name": "stderr",
     "output_type": "stream",
     "text": [
      "                                                                                \r"
     ]
    },
    {
     "name": "stdout",
     "output_type": "stream",
     "text": [
      "+------+-----------+---------+---------------+----+-----------+-------------+-------------+---------------------+-----------------+-------------+-----------+--------------------+-------------------+----------------------+--------------------+--------------------+----------+----------------+------------------------+--------------------+---------------------+-------------------+-----------------------+--------------------+---------------+\n",
      "|    ID|Customer_ID|    Month|           Name| Age|        SSN|   Occupation|Annual_Income|Monthly_Inhand_Salary|Num_Bank_Accounts|Interest_Rate|Num_of_Loan|        Type_of_Loan|Delay_from_due_date|Num_of_Delayed_Payment|Changed_Credit_Limit|Num_Credit_Inquiries|Credit_Mix|Outstanding_Debt|Credit_Utilization_Ratio|  Credit_History_Age|Payment_of_Min_Amount|Total_EMI_per_month|Amount_invested_monthly|   Payment_Behaviour|Monthly_Balance|\n",
      "+------+-----------+---------+---------------+----+-----------+-------------+-------------+---------------------+-----------------+-------------+-----------+--------------------+-------------------+----------------------+--------------------+--------------------+----------+----------------+------------------------+--------------------+---------------------+-------------------+-----------------------+--------------------+---------------+\n",
      "|0x160b|  CUS_0xd40|  October|  Aaron Maashoh|24.0|821-00-0265|    Scientist|     19114.12|            1824.8434|              3.0|          3.0|        4.0|Auto Loan, Credit...|                3.0|                   9.0|               13.27|                 4.0|      Good|          809.98|               33.053116|22 Years and 10 M...|                   No|          49.574947|               21.46538|High_spent_Medium...|        361.444|\n",
      "|0x1616| CUS_0x21b1|September|Rick Rothackerj|28.0|004-07-5839|      _______|     34847.84|            3037.9866|              2.0|          6.0|        1.0| Credit-Builder Loan|                3.0|                   1.0|                5.42|                 5.0|      Good|          605.03|                25.92682|27 Years and 3 Mo...|                   No|          18.816216|              39.684017|High_spent_Large_...|      485.29843|\n",
      "|0x1617| CUS_0x21b1|  October|Rick Rothackerj|28.0|  #F%$D@*&8|      Teacher|     34847.84|            3037.9866|              2.0|          6.0|        1.0| Credit-Builder Loan|                3.0|                   3.0|                5.42|                 5.0|      Good|          605.03|                 30.1166|27 Years and 4 Mo...|                   No|          18.816216|              251.62737|Low_spent_Large_v...|      303.35507|\n",
      "|0x162e| CUS_0xb891|September|         Jasond|55.0|072-31-6145| Entrepreneur|     30689.89|            2612.4907|              2.0|          4.0|        1.0|       Not Specified|                5.0|                   6.0|                1.99|                 4.0|      Good|          632.46|                39.37722|17 Years and 11 M...|                   No|          16.415451|                 69.107|High_spent_Medium...|      425.72662|\n",
      "|0x1630| CUS_0xb891| November|         Jasond|55.0|072-31-6145| Entrepreneur|     30689.89|            2612.4907|              2.0|          4.0|        1.0|       Not Specified|                5.0|                   6.0|                1.99|                 4.0|      Good|          632.46|               36.824467|18 Years and 1 Mo...|                   No|          16.415451|              191.88625|Low_spent_Medium_...|       332.9474|\n",
      "|0x165e| CUS_0x5407|September|           Annk|30.0|500-92-6408|Media_Manager|     34081.38|             2611.115|              8.0|         15.0|        3.0|Not Specified, Au...|               30.0|                  14.0|               17.13|                 9.0|         _|         1704.18|               38.477444|15 Years and 3 Mo...|                  Yes|           70.47833|               315.3668|Low_spent_Small_v...|      165.26637|\n",
      "|0x1661| CUS_0x5407| December|           Annk|31.0|500-92-6408|Media_Manager|     34081.38|             2611.115|              8.0|         15.0|        3.0|Not Specified, Au...|               30.0|                  14.0|               17.13|                 9.0|  Standard|         1704.18|               34.748955|15 Years and 6 Mo...|                   NM|           70.47833|               99.68632|High_spent_Medium...|      340.94684|\n",
      "|0x1676| CUS_0xba08|September|         Jamesj|45.0|366-68-1681|   Journalist|      31370.8|            2825.2334|              1.0|         12.0|        2.0|Not Specified, an...|                3.0|                   0.0|                0.24|                 5.0|      Good|          421.43|               40.633133|27 Years and 1 Mo...|                   No|           46.61613|              161.58337|              !@9#%8|      364.32382|\n",
      "|0x1677| CUS_0xba08|  October|         Jamesj|45.0|366-68-1681|   Journalist|      31370.8|            2825.2334|              1.0|         12.0|        2.0|Not Specified, an...|                2.0|                   3.0|                5.76|                 5.0|      Good|          421.43|               33.854095|27 Years and 2 Mo...|                   No|           46.61613|              109.42076|High_spent_Medium...|      376.48645|\n",
      "|0x1684| CUS_0xa66b| November|        Saphirj|41.0|221-30-8554|      Teacher|     33751.27|            2948.6057|              5.0|         20.0|        3.0|Credit-Builder Lo...|               11.0|                  20.0|                14.0|                 8.0|         _|         1328.93|               34.921444|20 Years and 0 Mo...|                   NM|           65.00817|              333.09915|Low_spent_Small_v...|      186.75325|\n",
      "|0x168f| CUS_0xc0ab|  October|       Soyoungd|33.0|342-90-2649|     Engineer|     88640.24|            7266.6865|              3.0|          1.0|        2.0|Payday Loan, and ...|                4.0|                   2.0|                3.51|                 3.0|         _|          950.36|               26.679688|26 Years and 2 Mo...|                   No|          135.17337|               143.7326|High_spent_Medium...|       697.7627|\n",
      "|0x169a| CUS_0x3e45|September|Harriet McLeodd|36.0|414-53-2918| Entrepreneur|     54392.16|              4766.68|              6.0|         14.0|        3.0|Not Specified, St...|               10.0|                   8.0|                5.54|                 7.0|  Standard|          179.22|                33.50246|27 Years and 6 Mo...|                  Yes|          124.39208|              329.55298|Low_spent_Large_v...|      292.72293|\n",
      "|0x169b| CUS_0x3e45|  October|Harriet McLeodd|36.0|414-53-2918| Entrepreneur|     54392.16|              4766.68|              6.0|         14.0|        3.0|Not Specified, St...|               10.0|                  10.0|                5.54|                 7.0|  Standard|          179.22|               34.022797|27 Years and 7 Mo...|                  Yes|          124.39208|              145.33058|Low_spent_Medium_...|      486.94534|\n",
      "|0x16a7| CUS_0x6c66|  October|  Sinead Carews|39.0|328-33-6328|      _______|     8701.545|             519.1287|              6.0|         32.0|        7.0|Personal Loan, Pa...|               23.0|                  10.0|                8.86|                 9.0|  Standard|         2602.69|               25.380714|9 Years and 8 Months|                  Yes|            36.5482|              37.646458|Low_spent_Small_v...|      267.71823|\n",
      "|0x16b3|  CUS_0xff4|  October|      Poornimaf|37.0|655-05-7666| Entrepreneur|     25546.26|             2415.855|              8.0|         14.0|        5.0|Not Specified, St...|               16.0|                  14.0|                7.83|                 7.0|  Standard|          758.44|               38.638077|18 Years and 11 M...|                  Yes|         101.328636|              105.83772|Low_spent_Medium_...|      314.41913|\n",
      "|0x16b5|  CUS_0xff4| December|      Poornimaf|37.0|655-05-7666| Entrepreneur|     25546.26|             2415.855|              8.0|         14.0|        5.0|Not Specified, St...|               16.0|                  15.0|                1.83|                 7.0|  Standard|          758.44|                38.48525|19 Years and 1 Mo...|                  Yes|         101.328636|              141.04976|Low_spent_Medium_...|       279.2071|\n",
      "|0x16c1| CUS_0x33d2| December|      Chalmersa|31.0|965-46-2491|      _______|     31993.78|            2942.1484|              6.0|          7.0|        2.0|Payday Loan, and ...|                8.0|                  14.0|                6.28|                 1.0|  Standard|          818.22|               27.640324|17 Years and 9 Mo...|                  Yes|          45.141296|               86.03297|Low_spent_Large_v...|      433.04056|\n",
      "|0x16d8|  CUS_0xfdb| November|       Patrickg|46.0|928-91-4452|      _______|     32284.62|            2749.7625|              6.0|         17.0|        6.0|Credit-Builder Lo...|               11.0|                   9.0|                9.22|                10.0|  Standard|         1283.37|                28.97315|7 Years and 3 Months|                  Yes|          251.66006|              213.79004|Low_spent_Small_v...|       263.0109|\n",
      "|0x16f0| CUS_0x4100| November|          Reema|32.0|068-83-4394| Entrepreneur|     19300.34|            1512.3617|              6.0|         17.0|        5.0|Mortgage Loan, De...|               51.0|                  19.0|                9.95|                 8.0|       Bad|         2430.21|               37.363903|19 Years and 0 Mo...|                  Yes|          49.572063|               44.50951|Low_spent_Medium_...|       337.1546|\n",
      "|0x171e| CUS_0x5b48|September|       McBrideq|32.0|706-95-0150|       Lawyer|    12600.445|             782.0371|              5.0|         10.0|        3.0|Not Specified, St...|               25.0|                  19.0|               15.79|                11.0|  Standard|           569.8|                33.64943|12 Years and 11 M...|                  Yes|          26.060347|               63.56543|Low_spent_Small_v...|      278.57794|\n",
      "+------+-----------+---------+---------------+----+-----------+-------------+-------------+---------------------+-----------------+-------------+-----------+--------------------+-------------------+----------------------+--------------------+--------------------+----------+----------------+------------------------+--------------------+---------------------+-------------------+-----------------------+--------------------+---------------+\n",
      "only showing top 20 rows\n",
      "\n"
     ]
    }
   ],
   "source": [
    "def calculate_bounds(df, column):\n",
    "    quantiles = df.approxQuantile(column, [0.25, 0.75], 0.01)\n",
    "    q1, q3 = quantiles\n",
    "    iqr = q3 - q1\n",
    "    lower_bound = q1 - 1.5 * iqr\n",
    "    upper_bound = q3 + 1.5 * iqr\n",
    "    return lower_bound, upper_bound\n",
    "\n",
    "bounds = {col: calculate_bounds(clean_data, col) for col in columns_to_convert}\n",
    "\n",
    "for col, (lower_bound, upper_bound) in bounds.items():\n",
    "    clean_data = clean_data.filter((F.col(col) >= lower_bound) & (F.col(col) <= upper_bound))\n",
    "\n",
    "clean_data.show()"
   ]
  },
  {
   "cell_type": "markdown",
   "metadata": {},
   "source": [
    "<h3>Let s check wether the outliers have been succesfully deleted by reusing the boxplot, and showing the informations related to each columns by using the 'describe' method.</h3>"
   ]
  },
  {
   "cell_type": "code",
   "execution_count": 14,
   "metadata": {},
   "outputs": [
    {
     "name": "stderr",
     "output_type": "stream",
     "text": [
      "[Stage 205:============================>                            (1 + 1) / 2]\r"
     ]
    },
    {
     "name": "stdout",
     "output_type": "stream",
     "text": [
      "Boxplot stats for Age: {'q1': 25.0, 'median': 33.0, 'q3': 41.0, 'iqr': 16.0, 'lower_whisker': 14.0, 'upper_whisker': 56.0}\n",
      "Boxplot stats for Annual_Income: {'q1': 17492.310546875, 'median': 30564.9609375, 'q3': 47873.6015625, 'iqr': 30381.291015625, 'lower_whisker': 7005.93017578125, 'upper_whisker': 93345.7578125}\n",
      "Boxplot stats for Monthly_Inhand_Salary: {'q1': 1464.657470703125, 'median': 2500.393310546875, 'q3': 3999.989990234375, 'iqr': 2535.33251953125, 'lower_whisker': 303.6454162597656, 'upper_whisker': 7795.87744140625}\n",
      "Boxplot stats for Num_Bank_Accounts: {'q1': 4.0, 'median': 6.0, 'q3': 7.0, 'iqr': 3.0, 'lower_whisker': 0.0, 'upper_whisker': 11.0}\n",
      "Boxplot stats for Interest_Rate: {'q1': 8.0, 'median': 15.0, 'q3': 20.0, 'iqr': 12.0, 'lower_whisker': 1.0, 'upper_whisker': 34.0}\n",
      "Boxplot stats for Num_of_Loan: {'q1': 2.0, 'median': 4.0, 'q3': 5.0, 'iqr': 3.0, 'lower_whisker': 1.0, 'upper_whisker': 9.0}\n",
      "Boxplot stats for Delay_from_due_date: {'q1': 10.0, 'median': 19.0, 'q3': 28.0, 'iqr': 18.0, 'lower_whisker': 0.0, 'upper_whisker': 55.0}\n",
      "Boxplot stats for Num_of_Delayed_Payment: {'q1': 10.0, 'median': 14.0, 'q3': 18.0, 'iqr': 8.0, 'lower_whisker': 0.0, 'upper_whisker': 28.0}\n",
      "Boxplot stats for Changed_Credit_Limit: {'q1': 5.579999923706055, 'median': 9.5600004196167, 'q3': 14.859999656677246, 'iqr': 9.279999732971191, 'lower_whisker': 0.009999999776482582, 'upper_whisker': 28.770000457763672}\n",
      "Boxplot stats for Num_Credit_Inquiries: {'q1': 5.0, 'median': 7.0, 'q3': 11.0, 'iqr': 6.0, 'lower_whisker': 0.0, 'upper_whisker': 17.0}\n",
      "Boxplot stats for Outstanding_Debt: {'q1': 638.27001953125, 'median': 1249.3399658203125, 'q3': 2011.1199951171875, 'iqr': 1372.8499755859375, 'lower_whisker': 1.2000000476837158, 'upper_whisker': 4064.81005859375}\n",
      "Boxplot stats for Credit_Utilization_Ratio: {'q1': 27.79349708557129, 'median': 31.9686222076416, 'q3': 35.966739654541016, 'iqr': 8.173242568969727, 'lower_whisker': 21.606369018554688, 'upper_whisker': 43.4946174621582}\n",
      "Boxplot stats for Total_EMI_per_month: {'q1': 35.013702392578125, 'median': 64.7330551147461, 'q3': 126.56646728515625, 'iqr': 91.55276489257812, 'lower_whisker': 4.4628376960754395, 'upper_whisker': 263.6554870605469}\n",
      "Boxplot stats for Amount_invested_monthly: {'q1': 63.07380294799805, 'median': 107.1524429321289, 'q3': 177.77444458007812, 'iqr': 114.70064163208008, 'lower_whisker': 0.0, 'upper_whisker': 349.7545166015625}\n",
      "Boxplot stats for Monthly_Balance: {'q1': 267.2388610839844, 'median': 318.2248229980469, 'q3': 404.19873046875, 'iqr': 136.95986938476562, 'lower_whisker': 62.56969451904297, 'upper_whisker': 609.6220703125}\n"
     ]
    },
    {
     "name": "stderr",
     "output_type": "stream",
     "text": [
      "                                                                                \r"
     ]
    }
   ],
   "source": [
    "boxplot_stats = {col: compute_boxplot_values(clean_data, col) for col in columns_to_convert}\n",
    "for col, stats in boxplot_stats.items():\n",
    "    print(f\"Boxplot stats for {col}: {stats}\")"
   ]
  },
  {
   "cell_type": "code",
   "execution_count": 15,
   "metadata": {},
   "outputs": [
    {
     "name": "stderr",
     "output_type": "stream",
     "text": [
      "[Stage 207:============================>                            (1 + 1) / 2]\r"
     ]
    },
    {
     "name": "stdout",
     "output_type": "stream",
     "text": [
      "+-------+-------+-----------+---------+------+-----------------+-----------+----------+------------------+---------------------+------------------+------------------+------------------+--------------------+-------------------+----------------------+--------------------+--------------------+----------+------------------+------------------------+--------------------+---------------------+-------------------+-----------------------+--------------------+------------------+\n",
      "|summary|     ID|Customer_ID|    Month|  Name|              Age|        SSN|Occupation|     Annual_Income|Monthly_Inhand_Salary| Num_Bank_Accounts|     Interest_Rate|       Num_of_Loan|        Type_of_Loan|Delay_from_due_date|Num_of_Delayed_Payment|Changed_Credit_Limit|Num_Credit_Inquiries|Credit_Mix|  Outstanding_Debt|Credit_Utilization_Ratio|  Credit_History_Age|Payment_of_Min_Amount|Total_EMI_per_month|Amount_invested_monthly|   Payment_Behaviour|   Monthly_Balance|\n",
      "+-------+-------+-----------+---------+------+-----------------+-----------+----------+------------------+---------------------+------------------+------------------+------------------+--------------------+-------------------+----------------------+--------------------+--------------------+----------+------------------+------------------------+--------------------+---------------------+-------------------+-----------------------+--------------------+------------------+\n",
      "|  count|  12541|      12541|    12541| 12541|            12541|      12541|     12541|             12541|                12541|             12541|             12541|             12541|               12541|              12541|                 12541|               12541|               12541|     12541|             12541|                   12541|               12541|                12541|              12541|                  12541|               12541|             12541|\n",
      "|   mean|   null|       null|     null|  null|33.35890279881987|       null|      null| 36183.06398804889|   3005.8845396547567| 5.573399250458496|15.316083246950004| 3.969858862929591|                null| 21.260346064907104|     13.83781197671637|  10.576151027677234|   7.714935013156846|      null|1426.0951112410771|      31.973171035198398|                null|                 null|  93.63630204831534|     134.59511378803623|                null|349.14608894391796|\n",
      "| stddev|   null|       null|     null|  null|10.63488428878878|       null|      null|23659.236693604205|    1978.149329497279|2.5215765237382795| 8.781709669626864|2.1439541985028736|                null| 13.694435272185896|     6.057895250109165|   6.439954569285653|   3.956037243960294|      null|1013.9946585787517|       4.957299058345552|                null|                 null|  79.95832172821532|      95.35871710883525|                null|121.74077781091867|\n",
      "|    min|0x1000b| CUS_0x1009| December| Mattr|             14.0|  #F%$D@*&8|Accountant|           7005.93|            303.64542|               0.0|               1.0|               1.0|           Auto Loan|                0.0|                   0.0|                0.01|                 0.0|       Bad|               1.2|               21.606369|0 Years and 10 Mo...|                   NM|          4.4628377|                    0.0|              !@9#%8|         3.8671966|\n",
      "|    max| 0xfff4|  CUS_0xffd|September|    yv|             56.0|999-95-7259|   _______|         133057.89|           11085.3125|              11.0|              34.0|               9.0|Student Loan, and...|               57.0|                  28.0|               29.39|                17.0|         _|           4332.94|               43.494617|9 Years and 9 Months|                  Yes|          386.77774|              443.46994|Low_spent_Small_v...|         711.29517|\n",
      "+-------+-------+-----------+---------+------+-----------------+-----------+----------+------------------+---------------------+------------------+------------------+------------------+--------------------+-------------------+----------------------+--------------------+--------------------+----------+------------------+------------------------+--------------------+---------------------+-------------------+-----------------------+--------------------+------------------+\n",
      "\n"
     ]
    },
    {
     "name": "stderr",
     "output_type": "stream",
     "text": [
      "                                                                                \r"
     ]
    }
   ],
   "source": [
    "updated_stats= clean_data.describe()\n",
    "updated_stats.show()"
   ]
  },
  {
   "cell_type": "markdown",
   "metadata": {},
   "source": [
    "As expected, the outliers have been removed, and the data looks much better now. \n",
    "\n",
    "<h4>The mean of the columns \"Age\" and \"Num_Bank_Accounts\" are respectively 33.35 and 5.57, instead of unreasonable numbers like 125 and 16.</h4>\n",
    "\n",
    "We can save our final cleaned data in a csv file using the code below."
   ]
  },
  {
   "cell_type": "code",
   "execution_count": 45,
   "metadata": {},
   "outputs": [
    {
     "name": "stderr",
     "output_type": "stream",
     "text": [
      "[Stage 294:>                                                        (0 + 1) / 1]\r"
     ]
    },
    {
     "name": "stdout",
     "output_type": "stream",
     "text": [
      "Cleaned data has been saved to: data/final_data_cleaned.csv\n"
     ]
    },
    {
     "name": "stderr",
     "output_type": "stream",
     "text": [
      "                                                                                \r"
     ]
    }
   ],
   "source": [
    "output_path = \"data/final_data_cleaned.csv\"\n",
    "clean_data.coalesce(1).write.csv(output_path, header=True)\n",
    "\n",
    "print(\"Cleaned data has been saved to:\", output_path)\n",
    "\n"
   ]
  },
  {
   "cell_type": "markdown",
   "metadata": {},
   "source": [
    "### 3.4. Predictive model\n"
   ]
  },
  {
   "cell_type": "markdown",
   "metadata": {},
   "source": []
  }
 ],
 "metadata": {
  "kernelspec": {
   "display_name": "Python 3 (ipykernel)",
   "language": "python",
   "name": "python3"
  },
  "language_info": {
   "codemirror_mode": {
    "name": "ipython",
    "version": 3
   },
   "file_extension": ".py",
   "mimetype": "text/x-python",
   "name": "python",
   "nbconvert_exporter": "python",
   "pygments_lexer": "ipython3",
   "version": "3.10.4"
  }
 },
 "nbformat": 4,
 "nbformat_minor": 4
}
